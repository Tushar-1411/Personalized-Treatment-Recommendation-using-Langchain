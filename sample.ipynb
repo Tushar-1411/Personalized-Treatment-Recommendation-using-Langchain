{
 "cells": [
  {
   "cell_type": "code",
   "execution_count": 1,
   "metadata": {},
   "outputs": [
    {
     "data": {
      "text/plain": [
       "True"
      ]
     },
     "execution_count": 1,
     "metadata": {},
     "output_type": "execute_result"
    }
   ],
   "source": [
    "# import langchain\n",
    "# import openai\n",
    "import os\n",
    "import pandas as pd\n",
    "# from langchain.text_splitter import RecursiveCharacterTextSplitter\n",
    "from langchain_community.embeddings.huggingface import HuggingFaceInstructEmbeddings\n",
    "from langchain.vectorstores import FAISS\n",
    "# from langchain.document_loaders.csv_loader import CSVLoader\n",
    "from langchain.chains import RetrievalQA\n",
    "from langchain.prompts import PromptTemplate\n",
    "from langchain.llms import HuggingFaceHub\n",
    "\n",
    "from dotenv import load_dotenv\n",
    "load_dotenv()"
   ]
  },
  {
   "cell_type": "code",
   "execution_count": 2,
   "metadata": {},
   "outputs": [],
   "source": [
    "# OPENAI_API_KEY = os.getenv(\"OPENAI_API_KEY\")\n",
    "# GOOGLE_API_KEY = os.getenv(\"GOOGLE_API_KEY\")"
   ]
  },
  {
   "cell_type": "code",
   "execution_count": 3,
   "metadata": {},
   "outputs": [],
   "source": [
    "# file_path = \"Data/data.xlsx\"\n",
    "# df = pd.read_excel(file_path, header=1)\n",
    "\n",
    "# df[\"Recommendations\"] = df.Recommendations.str.replace(\",\",\" \")\n",
    "# df.to_csv(\"Data/data.csv\")"
   ]
  },
  {
   "cell_type": "code",
   "execution_count": 4,
   "metadata": {},
   "outputs": [],
   "source": [
    "# loader = CSVLoader(file_path='Data/data.csv')\n",
    "# data = loader.load()"
   ]
  },
  {
   "cell_type": "code",
   "execution_count": 5,
   "metadata": {},
   "outputs": [],
   "source": [
    "# text_splitter = RecursiveCharacterTextSplitter(\n",
    "#     chunk_size=1000,\n",
    "#     chunk_overlap=200\n",
    "# )"
   ]
  },
  {
   "cell_type": "code",
   "execution_count": 6,
   "metadata": {},
   "outputs": [
    {
     "name": "stderr",
     "output_type": "stream",
     "text": [
      "c:\\Users\\Tushar\\OneDrive\\Desktop\\Final Year Project\\env\\lib\\site-packages\\InstructorEmbedding\\instructor.py:7: TqdmWarning: IProgress not found. Please update jupyter and ipywidgets. See https://ipywidgets.readthedocs.io/en/stable/user_install.html\n",
      "  from tqdm.autonotebook import trange\n"
     ]
    },
    {
     "name": "stdout",
     "output_type": "stream",
     "text": [
      "load INSTRUCTOR_Transformer\n",
      "max_seq_length  512\n"
     ]
    }
   ],
   "source": [
    "#docs = text_splitter.split_documents(data)\n",
    "embeddings = HuggingFaceInstructEmbeddings()"
   ]
  },
  {
   "cell_type": "code",
   "execution_count": 7,
   "metadata": {},
   "outputs": [],
   "source": [
    "# db = FAISS.from_documents(docs, embeddings)\n",
    "# db.save_local(\"faiss_index\")\n",
    "new_db = FAISS.load_local(\"faiss_index\", embeddings)\n",
    "\n",
    "# retreiver = new_db.as_retriever()\n",
    "# retreiver.get_relevant_documents(question)"
   ]
  },
  {
   "cell_type": "code",
   "execution_count": 8,
   "metadata": {},
   "outputs": [
    {
     "data": {
      "text/plain": [
       "[Document(page_content=': 188\\nDescription: A 43-year-old patient with a BMI of 29 experiences post-meal blood sugar spikes and persistent gastrointestinal symptoms. The patient leads an active lifestyle with regular meals and is a non-smoker.\\nRecommendations: DPP-4 Inhibitor (e.g.   Sitagliptin): To slow the breakdown of incretin hormones and increase insulin release. GLP-1 Receptor Agonist (e.g.   Dulaglutide): To aid in blood sugar control. Lifestyle Modification: Focus on regular meals   portion control   and increased physical activity. Gastroenterology Consultation: Consider referral to a gastroenterologist for evaluation of persistent gastrointestinal symptoms.', metadata={'source': 'Data/data.csv', 'row': 188}),\n",
       " Document(page_content=': 0\\nDescription: A 55-year-old patient with a BMI of 28 presents with post-meal blood sugar spikes and weight gain. The patient has a moderately active lifestyle with irregular eating patterns and is a non-smoker and does not consume alcohol.\\nRecommendations: DPP-4 Inhibitor (e.g.   Sitagliptin): To reduce post-meal blood sugar levels. GLP-1 Receptor Agonist (e.g.   Liraglutide): To aid in weight management and blood sugar control. Lifestyle Modification: Focus on regular meals   portion control   and increased physical activity.', metadata={'source': 'Data/data.csv', 'row': 0}),\n",
       " Document(page_content=': 201\\nDescription: A 50-year-old patient with a BMI of 31 reports post-meal blood sugar spikes and a history of anxiety disorder. The patient leads a sedentary lifestyle with irregular meal timings and has been on anxiolytic medication.\\nRecommendations: Alpha-Glucosidase Inhibitors (e.g.   Acarbose): To slow the absorption of carbohydrates from the digestive tract. Lifestyle Modification: Focus on regular meals   portion control   and increased physical activity. Psychiatry Consultation: Collaborate with a psychiatrist to optimize anxiety management.', metadata={'source': 'Data/data.csv', 'row': 201}),\n",
       " Document(page_content=': 114\\nDescription: A 55-year-old patient with a BMI of 30 manages high blood pressure and presents with occasional dizziness. The patient takes Amlodipine for blood pressure management and leads a sedentary lifestyle with irregular meal timings.\\nRecommendations: DPP-4 Inhibitor (e.g.   Sitagliptin): To reduce post-meal blood sugar levels. Adjustment of Amlodipine dosage: Consider optimizing the dosage for more effective blood pressure management. Lifestyle Modification: Encourage regular physical activity and a heart-healthy diet', metadata={'source': 'Data/data.csv', 'row': 114})]"
      ]
     },
     "execution_count": 8,
     "metadata": {},
     "output_type": "execute_result"
    }
   ],
   "source": [
    "query = \"Patient with age 43 and BMI 27 suffers with post meal blood spikes and high blood pressure.\"\n",
    "new_db.similarity_search(query)"
   ]
  },
  {
   "cell_type": "code",
   "execution_count": 9,
   "metadata": {},
   "outputs": [],
   "source": [
    "\n",
    "\n",
    "# template = \"\"\"Instructions: Based on the given context answer the question provided. Strictly answer from the context and dont make up new from your\n",
    "# own knowledge and if you dont know the answer just reply with I DONT KNOW.\n",
    "\n",
    "# Context : {context}\n",
    "\n",
    "# Question: {question}\n",
    "# \"\"\"\n",
    "\n",
    "# prompt = PromptTemplate(template=template, input_variables=[\"question\", \"context\"])\n"
   ]
  },
  {
   "cell_type": "code",
   "execution_count": 10,
   "metadata": {},
   "outputs": [],
   "source": [
    "# from langchain_google_genai import GoogleGenerativeAI\n",
    "# llm = GoogleGenerativeAI(model=\"models/text-bison-001\", google_api_key=os.getenv(\"GOOGLE_API_KEY\")) # type:ignore\n",
    "# print(\n",
    "#     llm.invoke(\n",
    "#         \"What are some of the pros and cons of Python as a programming language?\"\n",
    "#     )\n",
    "# )"
   ]
  },
  {
   "cell_type": "code",
   "execution_count": 11,
   "metadata": {},
   "outputs": [],
   "source": [
    "query = \"Recommendation for A 60-year-old patient with a BMI of 32 presents with poorly controlled blood sugar and insulin resistance. The patient leads a sedentary lifestyle with irregular meal timings.\""
   ]
  },
  {
   "cell_type": "code",
   "execution_count": 12,
   "metadata": {},
   "outputs": [],
   "source": [
    "query_prompt = PromptTemplate(\n",
    "    template= \"\"\"From the retreived similar documents only state the medications name along with their use case and the lifestyle modifications\n",
    "     and if you dont find a match in the knowledge base just reply I DONT KNOW and dont make up an answer.\n",
    "      Question : {query} \"\"\",\n",
    "    input_variables= [query]\n",
    ")"
   ]
  },
  {
   "cell_type": "code",
   "execution_count": 13,
   "metadata": {},
   "outputs": [],
   "source": [
    "# Query 1\n",
    "query_1 = \"A 40-year-old patient with a BMI of 27 presents with increased thirst, frequent urination, and a history of hypertension. The patient follows a moderately active lifestyle with regular meals and is a non-smoker. No past diabetic history is mentioned.\"\n",
    "# Recommendations for Query 1\n",
    "recommendations_1 = \"Metformin: To improve insulin sensitivity and address elevated blood sugar levels. Lifestyle Modification: Emphasize regular physical activity and a well-balanced diet with consistent meal timings. Hypertension Management: Collaborate with a cardiologist for assessment and management of hypertension.\"\n",
    "\n",
    "# Query 2\n",
    "query_2 = \"A 28-year-old individual with a BMI of 24 reports post-meal blood sugar spikes and a history of migraines. The patient leads an active lifestyle with regular meals and is a non-smoker. No past diabetic history is mentioned.\"\n",
    "# Recommendations for Query 2\n",
    "recommendations_2 = \"DPP-4 Inhibitor (e.g., Linagliptin): To slow the breakdown of incretin hormones and increase insulin release. Lifestyle Modification: Focus on regular meals, portion control, and increased physical activity. Neurology Consultation: Consider referral to a neurologist for assessment and management of migraines.\"\n",
    "\n",
    "# Query 3\n",
    "query_3 = \"A 55-year-old patient with a BMI of 29 presents with poorly controlled blood sugar and a history of depression. The patient leads a sedentary lifestyle with irregular meal timings. No past diabetic history is mentioned.\"\n",
    "# Recommendations for Query 3\n",
    "recommendations_3 = \"SGLT2 Inhibitor (e.g., Canagliflozin): To reduce glucose reabsorption in the kidneys and increase glucose excretion in urine. Lifestyle Modification: Emphasize regular physical activity and a well-balanced diet with consistent meal timings. Psychiatry Consultation: Collaborate with a psychiatrist to optimize management of depression.\"\n",
    "\n",
    "# Query 4\n",
    "query_4 = \"A 35-year-old patient with a BMI of 31 presents with elevated fasting blood sugar levels and a history of gastroesophageal reflux disease (GERD). The patient leads an active lifestyle with regular meals and is a non-smoker. No past diabetic history is mentioned.\"\n",
    "# Recommendations for Query 4\n",
    "recommendations_4 = \"GLP-1 Receptor Agonist (e.g., Liraglutide): To aid in blood sugar control. Lifestyle Modification: Focus on regular meals, portion control, and increased physical activity. Gastroenterology Consultation: Consider referral to a gastroenterologist for evaluation and management of GERD.\""
   ]
  },
  {
   "cell_type": "markdown",
   "metadata": {},
   "source": [
    "## WORKING REPO IDS\n",
    "1. Mistral - \"mistralai/Mixtral-8x7B-Instruct-v0.1\" (works pretty well and gives the needed outputs)\n",
    "2. Google flan - \"google/flan-t5-xxl\"\n",
    "3. Bloom - \"bigscience/bloom\" (short context length)\n",
    "4. Mistral - \"mistralai/Mistral-7B-Instruct-v0.2\" (works pretty well and gives the needed outputs)\n",
    "5. openchat - \"openchat/openchat-3.5-1210\" (works fine)\n",
    "6. Zephyr - \"HuggingFaceH4/zephyr-7b-beta\"\n",
    "7. "
   ]
  },
  {
   "cell_type": "code",
   "execution_count": 14,
   "metadata": {},
   "outputs": [
    {
     "name": "stderr",
     "output_type": "stream",
     "text": [
      "c:\\Users\\Tushar\\OneDrive\\Desktop\\Final Year Project\\env\\lib\\site-packages\\huggingface_hub\\utils\\_deprecation.py:131: FutureWarning: 'InferenceApi' (from 'huggingface_hub.inference_api') is deprecated and will be removed from version '1.0'. `InferenceApi` client is deprecated in favor of the more feature-complete `InferenceClient`. Check out this guide to learn how to convert your script to use it: https://huggingface.co/docs/huggingface_hub/guides/inference#legacy-inferenceapi-client.\n",
      "  warnings.warn(warning_message, FutureWarning)\n"
     ]
    }
   ],
   "source": [
    "repo_id = \"tiiuae/falcon-7b-instruct\"\n",
    "llm = HuggingFaceHub(\n",
    "    repo_id=repo_id, model_kwargs={\"temperature\": 0.2},\n",
    "    huggingfacehub_api_token = os.getenv(\"HUGGINGFACEHUB_API_TOKEN\"),\n",
    ")\n",
    "\n",
    "qa = RetrievalQA.from_chain_type(\n",
    "    llm=llm,\n",
    "    chain_type=\"stuff\",\n",
    "    retriever=new_db.as_retriever(search_kwargs={\"k\": 6})\n",
    ")"
   ]
  },
  {
   "cell_type": "code",
   "execution_count": 15,
   "metadata": {},
   "outputs": [
    {
     "data": {
      "text/plain": [
       "\"\\nYes, I don't know.\\n\\nThe patient should consult with a healthcare professional to determine the best course of action for managing their symptoms.\""
      ]
     },
     "execution_count": 15,
     "metadata": {},
     "output_type": "execute_result"
    }
   ],
   "source": [
    "formatted_query = query_prompt.format(query = query_2)\n",
    "qa.run(formatted_query)"
   ]
  }
 ],
 "metadata": {
  "kernelspec": {
   "display_name": "Python 3",
   "language": "python",
   "name": "python3"
  },
  "language_info": {
   "codemirror_mode": {
    "name": "ipython",
    "version": 3
   },
   "file_extension": ".py",
   "mimetype": "text/x-python",
   "name": "python",
   "nbconvert_exporter": "python",
   "pygments_lexer": "ipython3",
   "version": "3.9.16"
  }
 },
 "nbformat": 4,
 "nbformat_minor": 2
}
